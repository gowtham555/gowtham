{
 "cells": [
  {
   "cell_type": "code",
   "execution_count": 49,
   "id": "477d8597",
   "metadata": {},
   "outputs": [
    {
     "name": "stdout",
     "output_type": "stream",
     "text": [
      "[1 8 7 6]\n",
      "[45]\n",
      "(array([2.6, 9. , 8. , 7. ]), [5, 8, 0, 4, 3])\n",
      "<class 'tuple'>\n"
     ]
    }
   ],
   "source": [
    "import numpy as np\n",
    "arr = numpy.array([1,8,7,6])\n",
    "print(arr)\n",
    "arr = numpy.array([45])\n",
    "print(arr)\n",
    "arr = numpy.array([2.6,9,8,7]),([5,8,0,4,3]),\n",
    "print(arr)\n",
    "print(type(arr))\n",
    "\n"
   ]
  },
  {
   "cell_type": "code",
   "execution_count": 45,
   "id": "a6be975d",
   "metadata": {},
   "outputs": [
    {
     "name": "stdout",
     "output_type": "stream",
     "text": [
      "[4 8 7 6 9]\n",
      "15\n",
      "54\n",
      "[8 7 6]\n",
      "[8 7 6]\n",
      "[8]\n",
      "[4 6]\n"
     ]
    }
   ],
   "source": [
    "import numpy as np\n",
    "arr = np.array([4,8,7,6,9])\n",
    "print(arr)\n",
    "print(arr[3] + arr[4])\n",
    "print(arr[3] * arr[4])\n",
    "print(arr[1:4])\n",
    "print(arr[-4:-1])\n",
    "print(arr[1:4:3])\n",
    "print(arr[::3])"
   ]
  },
  {
   "cell_type": "code",
   "execution_count": 48,
   "id": "d563166d",
   "metadata": {},
   "outputs": [
    {
     "name": "stdout",
     "output_type": "stream",
     "text": [
      "[[3 8 9 7 5]\n",
      " [6 8 9 0 5]]\n",
      "8\n",
      "5\n",
      "[9 7]\n",
      "[6 0]\n",
      "[[8 9 7]\n",
      " [8 9 0]]\n"
     ]
    }
   ],
   "source": [
    "import numpy as np\n",
    "arr = np.array([[3,8,9,7,5,], [6,8,9,0,5]])\n",
    "print(arr)\n",
    "print(arr[0, 1])\n",
    "print(arr[1 , 4])\n",
    "print(arr[0, 2:4])\n",
    "print(arr[1, :4:3])\n",
    "print(arr[0:3 , 1:4])\n",
    "\n"
   ]
  },
  {
   "cell_type": "code",
   "execution_count": 39,
   "id": "3c34135f",
   "metadata": {},
   "outputs": [
    {
     "name": "stdout",
     "output_type": "stream",
     "text": [
      "[[3 8 9 7 5]\n",
      " [6 8 9 0 5]\n",
      " [6 9 8 7 5]]\n",
      "5\n"
     ]
    }
   ],
   "source": [
    "arr = np.array([[3,8,9,7,5,], [6,8,9,0,5], [6,9,8,7,5]])\n",
    "print(arr)\n",
    "print(arr[2 , 4])"
   ]
  },
  {
   "cell_type": "code",
   "execution_count": 55,
   "id": "251d274f",
   "metadata": {},
   "outputs": [
    {
     "name": "stdout",
     "output_type": "stream",
     "text": [
      "int32\n",
      "<U5\n"
     ]
    }
   ],
   "source": [
    "import numpy as np\n",
    "arr = np.array([2,7,8,5])\n",
    "print(arr.dtype)\n",
    "arr = np.array([\"rty\",\"56\",\"rerws\"])\n",
    "print(arr.dtype)"
   ]
  },
  {
   "cell_type": "code",
   "execution_count": null,
   "id": "f10ef024",
   "metadata": {},
   "outputs": [],
   "source": []
  }
 ],
 "metadata": {
  "kernelspec": {
   "display_name": "Python 3",
   "language": "python",
   "name": "python3"
  },
  "language_info": {
   "codemirror_mode": {
    "name": "ipython",
    "version": 3
   },
   "file_extension": ".py",
   "mimetype": "text/x-python",
   "name": "python",
   "nbconvert_exporter": "python",
   "pygments_lexer": "ipython3",
   "version": "3.8.8"
  }
 },
 "nbformat": 4,
 "nbformat_minor": 5
}
